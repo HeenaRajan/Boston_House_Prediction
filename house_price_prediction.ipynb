{
 "cells": [
  {
   "cell_type": "markdown",
   "id": "5dc3fad6",
   "metadata": {
    "id": "o1Yx4rWJhYrM"
   },
   "source": [
    "# **Boston House Price Prediction**"
   ]
  },
  {
   "cell_type": "code",
   "execution_count": null,
   "id": "a15baa11",
   "metadata": {
    "id": "6c35b99a"
   },
   "outputs": [],
   "source": [
    "#loading the libraries\n",
    "import os \n",
    "import pandas as pd\n",
    "import numpy as np\n",
    "import matplotlib.pyplot as plt\n",
    "from sklearn.datasets import load_boston\n",
    "from sklearn.model_selection import train_test_split\n",
    "from sklearn.metrics import mean_squared_error as mse\n",
    "\n",
    "#Sagemaker specific libraries\n",
    "import sagemaker \n",
    "from sagemaker import get_execution_role\n",
    "from sagemaker.amazon.amazon_estimator import get_image_uri\n",
    "from sagemaker.predictor import csv_serializer"
   ]
  },
  {
   "cell_type": "markdown",
   "id": "6b0c0fd6",
   "metadata": {
    "id": "cMfwgTRqh3dp"
   },
   "source": [
    "**Object representing the SageMaker session that we are currently operating in**"
   ]
  },
  {
   "cell_type": "code",
   "execution_count": null,
   "id": "70008772",
   "metadata": {
    "id": "d2321cb3"
   },
   "outputs": [],
   "source": [
    "\n",
    "session = sagemaker.Session()"
   ]
  },
  {
   "cell_type": "code",
   "execution_count": null,
   "id": "3cdc2747",
   "metadata": {
    "id": "34e3f47e"
   },
   "outputs": [],
   "source": [
    "# retrieving the data from sklearn\n",
    "boston = load_boston()"
   ]
  },
  {
   "cell_type": "markdown",
   "id": "f3b9d30f",
   "metadata": {
    "id": "jVCVvnJxi6wH"
   },
   "source": [
    "**Preparing the data**"
   ]
  },
  {
   "cell_type": "code",
   "execution_count": null,
   "id": "2cac8646",
   "metadata": {
    "id": "f4a1aa55"
   },
   "outputs": [],
   "source": [
    "#Loading the training and target data\n",
    "X_bos = pd.DataFrame(boston.data, columns = boston.feature_names)\n",
    "Y_bos = pd.DataFrame(boston.target)"
   ]
  },
  {
   "cell_type": "markdown",
   "id": "a666703b",
   "metadata": {
    "id": "hKqOsppXiGdh"
   },
   "source": [
    "# **Splitting the Train, validation and test data**"
   ]
  },
  {
   "cell_type": "code",
   "execution_count": null,
   "id": "056f9fc2",
   "metadata": {
    "id": "215f7b69"
   },
   "outputs": [],
   "source": [
    "#Train/Test split\n",
    "X_train, X_test, Y_train, Y_test = train_test_split(X_bos, Y_bos, test_size=0.30)\n",
    "\n",
    "#Train/Validation split\n",
    "X_train, X_val, Y_train, Y_val = train_test_split(X_train, Y_train, test_size=0.30)"
   ]
  },
  {
   "cell_type": "code",
   "execution_count": null,
   "id": "664ec4dc",
   "metadata": {
    "id": "7224b061"
   },
   "outputs": [],
   "source": [
    "data_dir = './boston_data'\n",
    "if not os.path.exists(data_dir):\n",
    "    os.makedirs(data_dir)\n",
    "X_test.to_csv(os.path.join(data_dir, 'test.csv'), header=False, index=False)\n",
    "pd.concat([Y_val, X_val], axis=1).to_csv(os.path.join(data_dir, 'validation.csv'), header=False, index=False)\n",
    "pd.concat([Y_train, X_train], axis=1).to_csv(os.path.join(data_dir, 'train.csv'), header=False, index=False)"
   ]
  },
  {
   "cell_type": "markdown",
   "id": "eb18c358",
   "metadata": {
    "id": "DE8LjP03iR4n"
   },
   "source": [
    "# **Uploading the data files to S3 bucket**"
   ]
  },
  {
   "cell_type": "code",
   "execution_count": null,
   "id": "694abe1e",
   "metadata": {
    "id": "6d4ca1c9"
   },
   "outputs": [],
   "source": [
    "prefix = 'boston-ML'\n",
    "test_location = session.upload_data(os.path.join(data_dir, 'test.csv'), key_prefix=prefix)\n",
    "val_location = session.upload_data(os.path.join(data_dir, 'validation.csv'), key_prefix=prefix)\n",
    "train_location = session.upload_data(os.path.join(data_dir, 'train.csv'), key_prefix=prefix)"
   ]
  },
  {
   "cell_type": "markdown",
   "id": "45291195",
   "metadata": {
    "id": "xllZeJaAifSK"
   },
   "source": [
    "**Utility method to construct the image name for the training container**"
   ]
  },
  {
   "cell_type": "code",
   "execution_count": null,
   "id": "bdcc75bc",
   "metadata": {
    "id": "aa9b8409",
    "outputId": "f9fdf3bb-1f93-4fca-ecf3-41b861ced800"
   },
   "outputs": [
    {
     "name": "stderr",
     "output_type": "stream",
     "text": [
      "The method get_image_uri has been renamed in sagemaker>=2.\n",
      "See: https://sagemaker.readthedocs.io/en/stable/v2.html for details.\n"
     ]
    }
   ],
   "source": [
    "container = get_image_uri(session.boto_region_name, 'xgboost', '0.90-2')"
   ]
  },
  {
   "cell_type": "markdown",
   "id": "de070281",
   "metadata": {
    "id": "1JbESdf6iq9k"
   },
   "source": [
    "**Object representing the IAM role that we are currently assigned**"
   ]
  },
  {
   "cell_type": "code",
   "execution_count": null,
   "id": "ae9b7358",
   "metadata": {
    "id": "52f0746d"
   },
   "outputs": [],
   "source": [
    "role = get_execution_role()"
   ]
  },
  {
   "cell_type": "markdown",
   "id": "90c90921",
   "metadata": {
    "id": "jUHYUOUOjSQY"
   },
   "source": [
    "# **Constructing the Estimator object**"
   ]
  },
  {
   "cell_type": "code",
   "execution_count": null,
   "id": "e8dde052",
   "metadata": {
    "id": "9d3f39b7"
   },
   "outputs": [],
   "source": [
    "#xgboost estimator\n",
    "xgb = sagemaker.estimator.Estimator(container, role, instance_count=1, instance_type='ml.m4.xlarge', output_path='s3://{}/{}/output'.format(session.default_bucket(), prefix), sagemaker_session=session)"
   ]
  },
  {
   "cell_type": "markdown",
   "id": "5c34c1c7",
   "metadata": {
    "id": "0HUUEIP0jlt-"
   },
   "source": [
    "**Setting the Hyperparameters**"
   ]
  },
  {
   "cell_type": "code",
   "execution_count": null,
   "id": "68a168b0",
   "metadata": {
    "id": "29c3263a"
   },
   "outputs": [],
   "source": [
    "xgb.set_hyperparameters(max_depth=5,\n",
    "                        eta=0.2,\n",
    "                        gamma=4,\n",
    "                        min_child_weight=6,\n",
    "                        subsample=0.8,\n",
    "                        objective='reg:linear',\n",
    "                        early_stopping_rounds=10,\n",
    "                        num_round=200)"
   ]
  },
  {
   "cell_type": "markdown",
   "id": "2ac25c4b",
   "metadata": {
    "id": "bNqkESZajsha"
   },
   "source": [
    "# **Training**"
   ]
  },
  {
   "cell_type": "code",
   "execution_count": null,
   "id": "3ae13055",
   "metadata": {
    "id": "50723a78",
    "outputId": "6f5a7c88-79e6-4770-d399-b0e0a00a1c5d"
   },
   "outputs": [
    {
     "name": "stdout",
     "output_type": "stream",
     "text": [
      "2021-05-19 21:47:21 Starting - Starting the training job...\n",
      "2021-05-19 21:47:23 Starting - Launching requested ML instancesProfilerReport-1621460841: InProgress\n",
      "......\n",
      "2021-05-19 21:48:32 Starting - Preparing the instances for training......\n",
      "2021-05-19 21:49:43 Downloading - Downloading input data...\n",
      "2021-05-19 21:50:21 Training - Downloading the training image...\n",
      "2021-05-19 21:50:50 Uploading - Uploading generated training model.\u001b[34mINFO:sagemaker-containers:Imported framework sagemaker_xgboost_container.training\u001b[0m\n",
      "\u001b[34mINFO:sagemaker-containers:Failed to parse hyperparameter objective value reg:linear to Json.\u001b[0m\n",
      "\u001b[34mReturning the value itself\u001b[0m\n",
      "\u001b[34mINFO:sagemaker-containers:No GPUs detected (normal if no gpus installed)\u001b[0m\n",
      "\u001b[34mINFO:sagemaker_xgboost_container.training:Running XGBoost Sagemaker in algorithm mode\u001b[0m\n",
      "\u001b[34mINFO:root:Determined delimiter of CSV input is ','\u001b[0m\n",
      "\u001b[34mINFO:root:Determined delimiter of CSV input is ','\u001b[0m\n",
      "\u001b[34mINFO:root:Determined delimiter of CSV input is ','\u001b[0m\n",
      "\u001b[34m[21:50:47] 247x13 matrix with 3211 entries loaded from /opt/ml/input/data/train?format=csv&label_column=0&delimiter=,\u001b[0m\n",
      "\u001b[34mINFO:root:Determined delimiter of CSV input is ','\u001b[0m\n",
      "\u001b[34m[21:50:47] 107x13 matrix with 1391 entries loaded from /opt/ml/input/data/validation?format=csv&label_column=0&delimiter=,\u001b[0m\n",
      "\u001b[34mINFO:root:Single node training.\u001b[0m\n",
      "\u001b[34mINFO:root:Train matrix has 247 rows\u001b[0m\n",
      "\u001b[34mINFO:root:Validation matrix has 107 rows\u001b[0m\n",
      "\u001b[34m[21:50:47] WARNING: /workspace/src/objective/regression_obj.cu:152: reg:linear is now deprecated in favor of reg:squarederror.\u001b[0m\n",
      "\u001b[34m[0]#011train-rmse:19.6256#011validation-rmse:18.8489\u001b[0m\n",
      "\u001b[34m[1]#011train-rmse:16.028#011validation-rmse:15.3109\u001b[0m\n",
      "\u001b[34m[2]#011train-rmse:13.0925#011validation-rmse:12.5459\u001b[0m\n",
      "\u001b[34m[3]#011train-rmse:10.7697#011validation-rmse:10.3185\u001b[0m\n",
      "\u001b[34m[4]#011train-rmse:8.86755#011validation-rmse:8.58647\u001b[0m\n",
      "\u001b[34m[5]#011train-rmse:7.41176#011validation-rmse:7.38552\u001b[0m\n",
      "\u001b[34m[6]#011train-rmse:6.27827#011validation-rmse:6.57231\u001b[0m\n",
      "\u001b[34m[7]#011train-rmse:5.36224#011validation-rmse:5.78644\u001b[0m\n",
      "\u001b[34m[8]#011train-rmse:4.68327#011validation-rmse:5.45658\u001b[0m\n",
      "\u001b[34m[9]#011train-rmse:4.05423#011validation-rmse:5.16373\u001b[0m\n",
      "\u001b[34m[10]#011train-rmse:3.58231#011validation-rmse:4.91764\u001b[0m\n",
      "\u001b[34m[11]#011train-rmse:3.21421#011validation-rmse:4.7734\u001b[0m\n",
      "\u001b[34m[12]#011train-rmse:2.86705#011validation-rmse:4.62658\u001b[0m\n",
      "\u001b[34m[13]#011train-rmse:2.60993#011validation-rmse:4.5812\u001b[0m\n",
      "\u001b[34m[14]#011train-rmse:2.43873#011validation-rmse:4.49981\u001b[0m\n",
      "\u001b[34m[15]#011train-rmse:2.2559#011validation-rmse:4.50203\u001b[0m\n",
      "\u001b[34m[16]#011train-rmse:2.15693#011validation-rmse:4.48451\u001b[0m\n",
      "\u001b[34m[17]#011train-rmse:2.07747#011validation-rmse:4.50624\u001b[0m\n",
      "\u001b[34m[18]#011train-rmse:1.99112#011validation-rmse:4.47165\u001b[0m\n",
      "\u001b[34m[19]#011train-rmse:1.92057#011validation-rmse:4.45324\u001b[0m\n",
      "\u001b[34m[20]#011train-rmse:1.83671#011validation-rmse:4.43287\u001b[0m\n",
      "\u001b[34m[21]#011train-rmse:1.77941#011validation-rmse:4.47202\u001b[0m\n",
      "\u001b[34m[22]#011train-rmse:1.71513#011validation-rmse:4.40383\u001b[0m\n",
      "\u001b[34m[23]#011train-rmse:1.63772#011validation-rmse:4.38753\u001b[0m\n",
      "\u001b[34m[24]#011train-rmse:1.60437#011validation-rmse:4.37511\u001b[0m\n",
      "\u001b[34m[25]#011train-rmse:1.5749#011validation-rmse:4.36155\u001b[0m\n",
      "\u001b[34m[26]#011train-rmse:1.55111#011validation-rmse:4.33359\u001b[0m\n",
      "\u001b[34m[27]#011train-rmse:1.50799#011validation-rmse:4.35729\u001b[0m\n",
      "\u001b[34m[28]#011train-rmse:1.46832#011validation-rmse:4.34682\u001b[0m\n",
      "\u001b[34m[29]#011train-rmse:1.42971#011validation-rmse:4.307\u001b[0m\n",
      "\u001b[34m[30]#011train-rmse:1.41782#011validation-rmse:4.30615\u001b[0m\n",
      "\u001b[34m[31]#011train-rmse:1.39105#011validation-rmse:4.33602\u001b[0m\n",
      "\u001b[34m[32]#011train-rmse:1.37027#011validation-rmse:4.33263\u001b[0m\n",
      "\u001b[34m[33]#011train-rmse:1.34909#011validation-rmse:4.32139\u001b[0m\n",
      "\u001b[34m[34]#011train-rmse:1.32435#011validation-rmse:4.30456\u001b[0m\n",
      "\u001b[34m[35]#011train-rmse:1.30314#011validation-rmse:4.32221\u001b[0m\n",
      "\u001b[34m[36]#011train-rmse:1.26499#011validation-rmse:4.31673\u001b[0m\n",
      "\u001b[34m[37]#011train-rmse:1.25934#011validation-rmse:4.32256\u001b[0m\n",
      "\u001b[34m[38]#011train-rmse:1.24048#011validation-rmse:4.31726\u001b[0m\n",
      "\u001b[34m[39]#011train-rmse:1.23064#011validation-rmse:4.30448\u001b[0m\n",
      "\u001b[34m[40]#011train-rmse:1.21374#011validation-rmse:4.29818\u001b[0m\n",
      "\u001b[34m[41]#011train-rmse:1.20621#011validation-rmse:4.28187\u001b[0m\n",
      "\u001b[34m[42]#011train-rmse:1.1868#011validation-rmse:4.297\u001b[0m\n",
      "\u001b[34m[43]#011train-rmse:1.17535#011validation-rmse:4.31694\u001b[0m\n",
      "\u001b[34m[44]#011train-rmse:1.14787#011validation-rmse:4.32566\u001b[0m\n",
      "\u001b[34m[45]#011train-rmse:1.13585#011validation-rmse:4.3405\u001b[0m\n",
      "\u001b[34m[46]#011train-rmse:1.11863#011validation-rmse:4.35691\u001b[0m\n",
      "\u001b[34m[47]#011train-rmse:1.11186#011validation-rmse:4.37086\u001b[0m\n",
      "\u001b[34m[48]#011train-rmse:1.09088#011validation-rmse:4.38493\u001b[0m\n",
      "\u001b[34m[49]#011train-rmse:1.08858#011validation-rmse:4.37695\u001b[0m\n",
      "\u001b[34m[50]#011train-rmse:1.07113#011validation-rmse:4.39126\u001b[0m\n",
      "\u001b[34m[51]#011train-rmse:1.06348#011validation-rmse:4.38366\u001b[0m\n",
      "\n",
      "2021-05-19 21:51:21 Completed - Training job completed\n",
      "Training seconds: 76\n",
      "Billable seconds: 76\n"
     ]
    }
   ],
   "source": [
    "s3_input_train = sagemaker.inputs.TrainingInput(s3_data=train_location, content_type='csv')\n",
    "s3_input_validation = sagemaker.inputs.TrainingInput(s3_data=val_location, content_type='csv')\n",
    "xgb.fit({'train': s3_input_train, 'validation':s3_input_validation})"
   ]
  },
  {
   "cell_type": "markdown",
   "id": "b808ee82",
   "metadata": {
    "id": "RyyxiPicj4ro"
   },
   "source": [
    "# **Model evaluation**"
   ]
  },
  {
   "cell_type": "code",
   "execution_count": null,
   "id": "953e1feb",
   "metadata": {
    "id": "1386d8ee",
    "outputId": "3e1d3e8a-4af8-405d-cff2-f6b486ec627a"
   },
   "outputs": [
    {
     "name": "stdout",
     "output_type": "stream",
     "text": [
      "..............................\n",
      "\u001b[34m[2021-05-19:21:56:20:INFO] No GPUs detected (normal if no gpus installed)\u001b[0m\n",
      "\u001b[34m[2021-05-19:21:56:20:INFO] No GPUs detected (normal if no gpus installed)\u001b[0m\n",
      "\u001b[34m[2021-05-19:21:56:20:INFO] nginx config: \u001b[0m\n",
      "\u001b[35m[2021-05-19:21:56:20:INFO] No GPUs detected (normal if no gpus installed)\u001b[0m\n",
      "\u001b[35m[2021-05-19:21:56:20:INFO] No GPUs detected (normal if no gpus installed)\u001b[0m\n",
      "\u001b[35m[2021-05-19:21:56:20:INFO] nginx config: \u001b[0m\n",
      "\u001b[34mworker_processes auto;\u001b[0m\n",
      "\u001b[34mdaemon off;\u001b[0m\n",
      "\u001b[34mpid /tmp/nginx.pid;\u001b[0m\n",
      "\u001b[34merror_log  /dev/stderr;\n",
      "\u001b[0m\n",
      "\u001b[34mworker_rlimit_nofile 4096;\n",
      "\u001b[0m\n",
      "\u001b[34mevents {\n",
      "  worker_connections 2048;\u001b[0m\n",
      "\u001b[34m}\n",
      "\u001b[0m\n",
      "\u001b[35mworker_processes auto;\u001b[0m\n",
      "\u001b[35mdaemon off;\u001b[0m\n",
      "\u001b[35mpid /tmp/nginx.pid;\u001b[0m\n",
      "\u001b[35merror_log  /dev/stderr;\n",
      "\u001b[0m\n",
      "\u001b[35mworker_rlimit_nofile 4096;\n",
      "\u001b[0m\n",
      "\u001b[35mevents {\n",
      "  worker_connections 2048;\u001b[0m\n",
      "\u001b[35m}\n",
      "\u001b[0m\n",
      "\u001b[34mhttp {\n",
      "  include /etc/nginx/mime.types;\n",
      "  default_type application/octet-stream;\n",
      "  access_log /dev/stdout combined;\n",
      "\n",
      "  upstream gunicorn {\n",
      "    server unix:/tmp/gunicorn.sock;\n",
      "  }\n",
      "\n",
      "  server {\n",
      "    listen 8080 deferred;\n",
      "    client_max_body_size 0;\n",
      "\n",
      "    keepalive_timeout 3;\n",
      "\n",
      "    location ~ ^/(ping|invocations|execution-parameters) {\n",
      "      proxy_set_header X-Forwarded-For $proxy_add_x_forwarded_for;\n",
      "      proxy_set_header Host $http_host;\n",
      "      proxy_redirect off;\n",
      "      proxy_read_timeout 60s;\n",
      "      proxy_pass http://gunicorn;\n",
      "    }\n",
      "\n",
      "    location / {\n",
      "      return 404 \"{}\";\n",
      "    }\n",
      "\n",
      "  }\u001b[0m\n",
      "\u001b[34m}\n",
      "\n",
      "\u001b[0m\n",
      "\u001b[34m[2021-05-19 21:56:21 +0000] [17] [INFO] Starting gunicorn 19.10.0\u001b[0m\n",
      "\u001b[34m[2021-05-19 21:56:21 +0000] [17] [INFO] Listening at: unix:/tmp/gunicorn.sock (17)\u001b[0m\n",
      "\u001b[34m[2021-05-19 21:56:21 +0000] [17] [INFO] Using worker: gevent\u001b[0m\n",
      "\u001b[34m[2021-05-19 21:56:21 +0000] [24] [INFO] Booting worker with pid: 24\u001b[0m\n",
      "\u001b[34m[2021-05-19 21:56:21 +0000] [25] [INFO] Booting worker with pid: 25\u001b[0m\n",
      "\u001b[34m[2021-05-19 21:56:21 +0000] [26] [INFO] Booting worker with pid: 26\u001b[0m\n",
      "\u001b[34m[2021-05-19 21:56:21 +0000] [30] [INFO] Booting worker with pid: 30\u001b[0m\n",
      "\u001b[35mhttp {\n",
      "  include /etc/nginx/mime.types;\n",
      "  default_type application/octet-stream;\n",
      "  access_log /dev/stdout combined;\n",
      "\n",
      "  upstream gunicorn {\n",
      "    server unix:/tmp/gunicorn.sock;\n",
      "  }\n",
      "\n",
      "  server {\n",
      "    listen 8080 deferred;\n",
      "    client_max_body_size 0;\n",
      "\n",
      "    keepalive_timeout 3;\n",
      "\n",
      "    location ~ ^/(ping|invocations|execution-parameters) {\n",
      "      proxy_set_header X-Forwarded-For $proxy_add_x_forwarded_for;\n",
      "      proxy_set_header Host $http_host;\n",
      "      proxy_redirect off;\n",
      "      proxy_read_timeout 60s;\n",
      "      proxy_pass http://gunicorn;\n",
      "    }\n",
      "\n",
      "    location / {\n",
      "      return 404 \"{}\";\n",
      "    }\n",
      "\n",
      "  }\u001b[0m\n",
      "\u001b[35m}\n",
      "\n",
      "\u001b[0m\n",
      "\u001b[35m[2021-05-19 21:56:21 +0000] [17] [INFO] Starting gunicorn 19.10.0\u001b[0m\n",
      "\u001b[35m[2021-05-19 21:56:21 +0000] [17] [INFO] Listening at: unix:/tmp/gunicorn.sock (17)\u001b[0m\n",
      "\u001b[35m[2021-05-19 21:56:21 +0000] [17] [INFO] Using worker: gevent\u001b[0m\n",
      "\u001b[35m[2021-05-19 21:56:21 +0000] [24] [INFO] Booting worker with pid: 24\u001b[0m\n",
      "\u001b[35m[2021-05-19 21:56:21 +0000] [25] [INFO] Booting worker with pid: 25\u001b[0m\n",
      "\u001b[35m[2021-05-19 21:56:21 +0000] [26] [INFO] Booting worker with pid: 26\u001b[0m\n",
      "\u001b[35m[2021-05-19 21:56:21 +0000] [30] [INFO] Booting worker with pid: 30\u001b[0m\n",
      "\u001b[34m[2021-05-19:21:56:26:INFO] No GPUs detected (normal if no gpus installed)\u001b[0m\n",
      "\u001b[34m169.254.255.130 - - [19/May/2021:21:56:26 +0000] \"GET /ping HTTP/1.1\" 200 0 \"-\" \"Go-http-client/1.1\"\u001b[0m\n",
      "\u001b[34m[2021-05-19:21:56:26:INFO] No GPUs detected (normal if no gpus installed)\u001b[0m\n",
      "\u001b[34m169.254.255.130 - - [19/May/2021:21:56:26 +0000] \"GET /execution-parameters HTTP/1.1\" 200 84 \"-\" \"Go-http-client/1.1\"\u001b[0m\n",
      "\u001b[34m[2021-05-19:21:56:27:INFO] Determined delimiter of CSV input is ','\u001b[0m\n",
      "\u001b[34m[21:56:27] WARNING: /workspace/src/objective/regression_obj.cu:152: reg:linear is now deprecated in favor of reg:squarederror.\u001b[0m\n",
      "\u001b[34m169.254.255.130 - - [19/May/2021:21:56:27 +0000] \"POST /invocations HTTP/1.1\" 200 2816 \"-\" \"Go-http-client/1.1\"\u001b[0m\n",
      "\u001b[35m[2021-05-19:21:56:26:INFO] No GPUs detected (normal if no gpus installed)\u001b[0m\n",
      "\u001b[35m169.254.255.130 - - [19/May/2021:21:56:26 +0000] \"GET /ping HTTP/1.1\" 200 0 \"-\" \"Go-http-client/1.1\"\u001b[0m\n",
      "\u001b[35m[2021-05-19:21:56:26:INFO] No GPUs detected (normal if no gpus installed)\u001b[0m\n",
      "\u001b[35m169.254.255.130 - - [19/May/2021:21:56:26 +0000] \"GET /execution-parameters HTTP/1.1\" 200 84 \"-\" \"Go-http-client/1.1\"\u001b[0m\n",
      "\u001b[35m[2021-05-19:21:56:27:INFO] Determined delimiter of CSV input is ','\u001b[0m\n",
      "\u001b[35m[21:56:27] WARNING: /workspace/src/objective/regression_obj.cu:152: reg:linear is now deprecated in favor of reg:squarederror.\u001b[0m\n",
      "\u001b[35m169.254.255.130 - - [19/May/2021:21:56:27 +0000] \"POST /invocations HTTP/1.1\" 200 2816 \"-\" \"Go-http-client/1.1\"\u001b[0m\n",
      "\u001b[32m2021-05-19T21:56:26.996:[sagemaker logs]: MaxConcurrentTransforms=4, MaxPayloadInMB=6, BatchStrategy=MULTI_RECORD\u001b[0m\n"
     ]
    }
   ],
   "source": [
    "xgb_transformer = xgb.transformer(instance_count = 1, instance_type = 'ml.m4.xlarge')\n",
    "xgb_transformer.transform(test_location, content_type='text/csv', split_type='Line')"
   ]
  },
  {
   "cell_type": "code",
   "execution_count": null,
   "id": "ab185995",
   "metadata": {
    "id": "e154631a",
    "outputId": "59561a02-1a82-4191-c4ef-eeed48e53ac3"
   },
   "outputs": [
    {
     "name": "stdout",
     "output_type": "stream",
     "text": [
      "\u001b[34m[2021-05-19:21:56:20:INFO] No GPUs detected (normal if no gpus installed)\u001b[0m\n",
      "\u001b[34m[2021-05-19:21:56:20:INFO] No GPUs detected (normal if no gpus installed)\u001b[0m\n",
      "\u001b[34m[2021-05-19:21:56:20:INFO] nginx config: \u001b[0m\n",
      "\u001b[35m[2021-05-19:21:56:20:INFO] No GPUs detected (normal if no gpus installed)\u001b[0m\n",
      "\u001b[35m[2021-05-19:21:56:20:INFO] No GPUs detected (normal if no gpus installed)\u001b[0m\n",
      "\u001b[35m[2021-05-19:21:56:20:INFO] nginx config: \u001b[0m\n",
      "\u001b[34mworker_processes auto;\u001b[0m\n",
      "\u001b[34mdaemon off;\u001b[0m\n",
      "\u001b[34mpid /tmp/nginx.pid;\u001b[0m\n",
      "\u001b[34merror_log  /dev/stderr;\n",
      "\u001b[0m\n",
      "\u001b[34mworker_rlimit_nofile 4096;\n",
      "\u001b[0m\n",
      "\u001b[34mevents {\n",
      "  worker_connections 2048;\u001b[0m\n",
      "\u001b[34m}\n",
      "\u001b[0m\n",
      "\u001b[35mworker_processes auto;\u001b[0m\n",
      "\u001b[35mdaemon off;\u001b[0m\n",
      "\u001b[35mpid /tmp/nginx.pid;\u001b[0m\n",
      "\u001b[35merror_log  /dev/stderr;\n",
      "\u001b[0m\n",
      "\u001b[35mworker_rlimit_nofile 4096;\n",
      "\u001b[0m\n",
      "\u001b[35mevents {\n",
      "  worker_connections 2048;\u001b[0m\n",
      "\u001b[35m}\n",
      "\u001b[0m\n",
      "\u001b[34mhttp {\n",
      "  include /etc/nginx/mime.types;\n",
      "  default_type application/octet-stream;\n",
      "  access_log /dev/stdout combined;\n",
      "\n",
      "  upstream gunicorn {\n",
      "    server unix:/tmp/gunicorn.sock;\n",
      "  }\n",
      "\n",
      "  server {\n",
      "    listen 8080 deferred;\n",
      "    client_max_body_size 0;\n",
      "\n",
      "    keepalive_timeout 3;\n",
      "\n",
      "    location ~ ^/(ping|invocations|execution-parameters) {\n",
      "      proxy_set_header X-Forwarded-For $proxy_add_x_forwarded_for;\n",
      "      proxy_set_header Host $http_host;\n",
      "      proxy_redirect off;\n",
      "      proxy_read_timeout 60s;\n",
      "      proxy_pass http://gunicorn;\n",
      "    }\n",
      "\n",
      "    location / {\n",
      "      return 404 \"{}\";\n",
      "    }\n",
      "\n",
      "  }\u001b[0m\n",
      "\u001b[34m}\n",
      "\n",
      "\u001b[0m\n",
      "\u001b[34m[2021-05-19 21:56:21 +0000] [17] [INFO] Starting gunicorn 19.10.0\u001b[0m\n",
      "\u001b[34m[2021-05-19 21:56:21 +0000] [17] [INFO] Listening at: unix:/tmp/gunicorn.sock (17)\u001b[0m\n",
      "\u001b[34m[2021-05-19 21:56:21 +0000] [17] [INFO] Using worker: gevent\u001b[0m\n",
      "\u001b[34m[2021-05-19 21:56:21 +0000] [24] [INFO] Booting worker with pid: 24\u001b[0m\n",
      "\u001b[34m[2021-05-19 21:56:21 +0000] [25] [INFO] Booting worker with pid: 25\u001b[0m\n",
      "\u001b[34m[2021-05-19 21:56:21 +0000] [26] [INFO] Booting worker with pid: 26\u001b[0m\n",
      "\u001b[34m[2021-05-19 21:56:21 +0000] [30] [INFO] Booting worker with pid: 30\u001b[0m\n",
      "\u001b[35mhttp {\n",
      "  include /etc/nginx/mime.types;\n",
      "  default_type application/octet-stream;\n",
      "  access_log /dev/stdout combined;\n",
      "\n",
      "  upstream gunicorn {\n",
      "    server unix:/tmp/gunicorn.sock;\n",
      "  }\n",
      "\n",
      "  server {\n",
      "    listen 8080 deferred;\n",
      "    client_max_body_size 0;\n",
      "\n",
      "    keepalive_timeout 3;\n",
      "\n",
      "    location ~ ^/(ping|invocations|execution-parameters) {\n",
      "      proxy_set_header X-Forwarded-For $proxy_add_x_forwarded_for;\n",
      "      proxy_set_header Host $http_host;\n",
      "      proxy_redirect off;\n",
      "      proxy_read_timeout 60s;\n",
      "      proxy_pass http://gunicorn;\n",
      "    }\n",
      "\n",
      "    location / {\n",
      "      return 404 \"{}\";\n",
      "    }\n",
      "\n",
      "  }\u001b[0m\n",
      "\u001b[35m}\n",
      "\n",
      "\u001b[0m\n",
      "\u001b[35m[2021-05-19 21:56:21 +0000] [17] [INFO] Starting gunicorn 19.10.0\u001b[0m\n",
      "\u001b[35m[2021-05-19 21:56:21 +0000] [17] [INFO] Listening at: unix:/tmp/gunicorn.sock (17)\u001b[0m\n",
      "\u001b[35m[2021-05-19 21:56:21 +0000] [17] [INFO] Using worker: gevent\u001b[0m\n",
      "\u001b[35m[2021-05-19 21:56:21 +0000] [24] [INFO] Booting worker with pid: 24\u001b[0m\n",
      "\u001b[35m[2021-05-19 21:56:21 +0000] [25] [INFO] Booting worker with pid: 25\u001b[0m\n",
      "\u001b[35m[2021-05-19 21:56:21 +0000] [26] [INFO] Booting worker with pid: 26\u001b[0m\n",
      "\u001b[35m[2021-05-19 21:56:21 +0000] [30] [INFO] Booting worker with pid: 30\u001b[0m\n",
      "\u001b[34m[2021-05-19:21:56:26:INFO] No GPUs detected (normal if no gpus installed)\u001b[0m\n",
      "\u001b[34m169.254.255.130 - - [19/May/2021:21:56:26 +0000] \"GET /ping HTTP/1.1\" 200 0 \"-\" \"Go-http-client/1.1\"\u001b[0m\n",
      "\u001b[34m[2021-05-19:21:56:26:INFO] No GPUs detected (normal if no gpus installed)\u001b[0m\n",
      "\u001b[34m169.254.255.130 - - [19/May/2021:21:56:26 +0000] \"GET /execution-parameters HTTP/1.1\" 200 84 \"-\" \"Go-http-client/1.1\"\u001b[0m\n",
      "\u001b[34m[2021-05-19:21:56:27:INFO] Determined delimiter of CSV input is ','\u001b[0m\n",
      "\u001b[34m[21:56:27] WARNING: /workspace/src/objective/regression_obj.cu:152: reg:linear is now deprecated in favor of reg:squarederror.\u001b[0m\n",
      "\u001b[34m169.254.255.130 - - [19/May/2021:21:56:27 +0000] \"POST /invocations HTTP/1.1\" 200 2816 \"-\" \"Go-http-client/1.1\"\u001b[0m\n",
      "\u001b[35m[2021-05-19:21:56:26:INFO] No GPUs detected (normal if no gpus installed)\u001b[0m\n",
      "\u001b[35m169.254.255.130 - - [19/May/2021:21:56:26 +0000] \"GET /ping HTTP/1.1\" 200 0 \"-\" \"Go-http-client/1.1\"\u001b[0m\n",
      "\u001b[35m[2021-05-19:21:56:26:INFO] No GPUs detected (normal if no gpus installed)\u001b[0m\n",
      "\u001b[35m169.254.255.130 - - [19/May/2021:21:56:26 +0000] \"GET /execution-parameters HTTP/1.1\" 200 84 \"-\" \"Go-http-client/1.1\"\u001b[0m\n",
      "\u001b[35m[2021-05-19:21:56:27:INFO] Determined delimiter of CSV input is ','\u001b[0m\n",
      "\u001b[35m[21:56:27] WARNING: /workspace/src/objective/regression_obj.cu:152: reg:linear is now deprecated in favor of reg:squarederror.\u001b[0m\n",
      "\u001b[35m169.254.255.130 - - [19/May/2021:21:56:27 +0000] \"POST /invocations HTTP/1.1\" 200 2816 \"-\" \"Go-http-client/1.1\"\u001b[0m\n",
      "\u001b[32m2021-05-19T21:56:26.996:[sagemaker logs]: MaxConcurrentTransforms=4, MaxPayloadInMB=6, BatchStrategy=MULTI_RECORD\u001b[0m\n"
     ]
    }
   ],
   "source": [
    "xgb_transformer.wait()"
   ]
  },
  {
   "cell_type": "code",
   "execution_count": null,
   "id": "b49f752e",
   "metadata": {
    "id": "6858bc56",
    "outputId": "36a79a64-ed71-44b2-f04f-b3ae1afb3b81"
   },
   "outputs": [
    {
     "name": "stdout",
     "output_type": "stream",
     "text": [
      "download: s3://sagemaker-eu-central-1-547975329324/sagemaker-xgboost-2021-05-19-21-51-34-574/test.csv.out to boston_data/test.csv.out\r\n"
     ]
    }
   ],
   "source": [
    "#Moving data back from s3 bucket\n",
    "!aws s3 cp --recursive $xgb_transformer.output_path $data_dir"
   ]
  },
  {
   "cell_type": "code",
   "execution_count": null,
   "id": "71a12160",
   "metadata": {
    "id": "62c012ae",
    "outputId": "9286fd2e-d4b4-4d3b-e4b4-d073b8db0f6e"
   },
   "outputs": [
    {
     "name": "stdout",
     "output_type": "stream",
     "text": [
      "3.6071982464825165\n"
     ]
    }
   ],
   "source": [
    "Y_pred = pd.read_csv(os.path.join(data_dir, 'test.csv.out'), header=None)\n",
    "error = np.sqrt(mse(Y_pred,Y_test))\n",
    "print(error)"
   ]
  },
  {
   "cell_type": "code",
   "execution_count": null,
   "id": "2f702931",
   "metadata": {
    "id": "q4fmf9pokCm1"
   },
   "outputs": [
    {
     "data": {
      "image/png": "[encoded data removed]",
      "text/plain": [
       "<Figure size 432x288 with 1 Axes>"
      ]
     },
     "metadata": {
      "needs_background": "light"
     },
     "output_type": "display_data"
    }
   ],
   "source": [
    "plt.scatter(Y_test, Y_pred)\n",
    "plt.xlabel(\"Median Price\")\n",
    "plt.ylabel(\"Predicted Price\")\n",
    "plt.title(\"Median Price vs Predicted Price\")\n",
    "plt.show()"
   ]
  },
  {
   "cell_type": "markdown",
   "id": "0f57bad9",
   "metadata": {
    "id": "XOUHVNsDkNh4"
   },
   "source": [
    "# **Calling deploy method to start an endpoint instance**"
   ]
  },
  {
   "cell_type": "code",
   "execution_count": null,
   "id": "0a43c630",
   "metadata": {
    "id": "ada9035c",
    "outputId": "4fb7f2d2-99cb-4efc-f103-642c710c7ddd"
   },
   "outputs": [
    {
     "name": "stdout",
     "output_type": "stream",
     "text": [
      "---------------------------!"
     ]
    }
   ],
   "source": [
    "xgb_predictor = xgb.deploy(initial_instance_count = 1, instance_type = 'ml.m4.xlarge')"
   ]
  }
 ],
 "metadata": {
  "colab": {
   "name": "house_price_prediction.ipynb",
   "provenance": []
  },
  "kernelspec": {
   "display_name": "conda_python3",
   "language": "python",
   "name": "conda_python3"
  },
  "language_info": {
   "codemirror_mode": {
    "name": "ipython",
    "version": 3
   },
   "file_extension": ".py",
   "mimetype": "text/x-python",
   "name": "python",
   "nbconvert_exporter": "python",
   "pygments_lexer": "ipython3",
   "version": "3.6.13"
  }
 },
 "nbformat": 4,
 "nbformat_minor": 5
}
